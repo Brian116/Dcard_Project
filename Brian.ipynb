{
 "cells": [
  {
   "cell_type": "code",
   "execution_count": 1,
   "id": "05ea9355",
   "metadata": {},
   "outputs": [],
   "source": [
    "import os\n",
    "import re\n",
    "import time\n",
    "import json\n",
    "import datetime as dt\n",
    "import pandas as pd\n",
    "from tqdm import tqdm\n",
    "\n",
    "# from sqlalchemy import event, create_engine\n",
    "\n",
    "from bs4 import BeautifulSoup\n",
    "from selenium import webdriver\n",
    "from selenium.webdriver.common.by import By\n",
    "from selenium.webdriver.common.keys import Keys\n",
    "from selenium.webdriver.support import expected_conditions as EC\n",
    "from selenium.webdriver.support.wait import WebDriverWait\n",
    "from selenium.webdriver.support.ui import Select\n",
    "\n",
    "from selenium.webdriver.common.action_chains import ActionChains"
   ]
  },
  {
   "cell_type": "markdown",
   "id": "a280fa0b",
   "metadata": {},
   "source": [
    "# 抓取目標看板"
   ]
  },
  {
   "cell_type": "code",
   "execution_count": 2,
   "id": "c311fdc6",
   "metadata": {},
   "outputs": [
    {
     "name": "stdout",
     "output_type": "stream",
     "text": [
      "200\n"
     ]
    }
   ],
   "source": [
    "import requests\n",
    "r = requests.get(\"https://www.dcard.tw/service/api/v2/forums?nsfw=true&withPostListExcludeForums=false\")\n",
    "print(r.status_code)"
   ]
  },
  {
   "cell_type": "code",
   "execution_count": 3,
   "id": "212535f4",
   "metadata": {},
   "outputs": [
    {
     "name": "stderr",
     "output_type": "stream",
     "text": [
      "/var/folders/1y/scrkjqxx3_z6b3c7zh3v1wk00000gn/T/ipykernel_2586/3424270636.py:25: SettingWithCopyWarning: \n",
      "A value is trying to be set on a copy of a slice from a DataFrame.\n",
      "Try using .loc[row_indexer,col_indexer] = value instead\n",
      "\n",
      "See the caveats in the documentation: https://pandas.pydata.org/pandas-docs/stable/user_guide/indexing.html#returning-a-view-versus-a-copy\n",
      "  df_forums_1[\"postCount_last30Days\"] = df_forums_1.postCount.apply(get_v)\n"
     ]
    },
    {
     "data": {
      "text/plain": [
       "array(['dressup', 'meme', 'sex', 'relationship', 'talk', 'makeup', 'food',\n",
       "       'youtuber', 'money', 'horoscopes', 'weight_loss', 'trending',\n",
       "       'netflix', 'pet', 'job', 'stock', 'girl', 'mood', 'joke', 'funny',\n",
       "       'whysoserious', 'aov', 'mole_world', 'rainbow', 'freshman', 'exam',\n",
       "       'savemoney', '3c'], dtype=object)"
      ]
     },
     "execution_count": 3,
     "metadata": {},
     "output_type": "execute_result"
    }
   ],
   "source": [
    "# 列出所有看板\n",
    "topic_list = r.json()\n",
    "# print(type(r))\n",
    "# for i in topic_list:\n",
    "#     print(i[\"name\"])\n",
    "\n",
    "# # 隱藏看板\n",
    "# df.invisible.unique()\n",
    "# df.query(\"invisible == True\").name.unique()\n",
    "\n",
    "# 表格化\n",
    "df_forums  = pd.DataFrame(topic_list)\n",
    "# df_forums.head()\n",
    "\n",
    "# 挑出重點\n",
    "df_forums_1 = df_forums[[\"id\",\"alias\",\"name\",\"subscriptionCount\",\"createdAt\",\"updatedAt\",\"postCount\",]]\n",
    "# df_forums_1.head()\n",
    "\n",
    "# 重新排序\n",
    "def get_v(c):\n",
    "    postCount_last30Days = (c['last30Days'])\n",
    "    \n",
    "    return postCount_last30Days\n",
    "\n",
    "df_forums_1[\"postCount_last30Days\"] = df_forums_1.postCount.apply(get_v)\n",
    "\n",
    "# 追蹤數最多的版\n",
    "most_followers = df_forums_1.sort_values(['subscriptionCount'], ascending = False).reset_index(drop=True)\n",
    "most_followers_top20 = most_followers.head(20)\n",
    "# most_followers_top20\n",
    "\n",
    "# 一個月內發文數最多的版\n",
    "most_post = df_forums_1.sort_values(['postCount_last30Days'], ascending = False).reset_index(drop=True)\n",
    "most_post_top20 = most_post.head(20)\n",
    "# most_post_top20\n",
    "\n",
    "df_forums_final = pd.concat([most_followers_top20, most_post_top20]).reset_index(drop = True)\n",
    "# pd.concat([most_followers, most_post]).name.head(30)\n",
    "\n",
    "# 最終挑選的看板\n",
    "df_forums_final.alias.unique()\n",
    "# len(df_forums_final.alias.unique())"
   ]
  },
  {
   "cell_type": "markdown",
   "id": "c24302db",
   "metadata": {},
   "source": [
    "# 登入動作及控制"
   ]
  },
  {
   "cell_type": "code",
   "execution_count": 20,
   "id": "38853fd5",
   "metadata": {},
   "outputs": [
    {
     "name": "stderr",
     "output_type": "stream",
     "text": [
      "/var/folders/1y/scrkjqxx3_z6b3c7zh3v1wk00000gn/T/ipykernel_2586/3456079939.py:3: DeprecationWarning: executable_path has been deprecated, please pass in a Service object\n",
      "  browser = webdriver.Chrome(drivePath)\n"
     ]
    }
   ],
   "source": [
    "# Selenium模擬瀏覽器\n",
    "drivePath = './chromedriver'\n",
    "browser = webdriver.Chrome(drivePath)"
   ]
  },
  {
   "cell_type": "code",
   "execution_count": 21,
   "id": "7f94d02f",
   "metadata": {},
   "outputs": [],
   "source": [
    "def quick_start(mode=\"login\"):\n",
    "    # 1 啟動 Selenium模擬瀏覽器\n",
    "    drivePath = './chromedriver'\n",
    "    browser = webdriver.Chrome(drivePath)\n",
    "\n",
    "    # 2 開啟首頁\n",
    "    browser.get('https://www.dcard.tw')    \n",
    "    time.sleep(2)\n",
    "        \n",
    "    # 3  登入\n",
    "    if mode == 'login':\n",
    "        userEmail = \"\"\n",
    "        userPassword = \"\"\n",
    "\n",
    "        login(browser, userEmail, userPassword)\n",
    "    \n",
    "    return browser\n",
    "\n",
    "def login(browser, userEmail, userPassword):\n",
    "    # 進入登入畫面\n",
    "    browser.find_element_by_css_selector(\".bKXiml a\").click()\n",
    "\n",
    "    time.sleep(3)    \n",
    "\n",
    "    try:\n",
    "        # 填寫登入信箱與密碼\n",
    "        ele_input_email = browser.find_element_by_css_selector(\"#email\")\n",
    "        ele_input_password = browser.find_element_by_css_selector(\"#password\")\n",
    "        ele_button_send = browser.find_element_by_css_selector(\"button.rSTIv\")\n",
    "\n",
    "        ele_input_email.send_keys(\"bb20020116@gmail.com\")\n",
    "        time.sleep(0.3)\n",
    "        ele_input_password.send_keys(\"Brian20020116!!\")\n",
    "        time.sleep(0.3)\n",
    "        ele_button_send.click()\n",
    "\n",
    "        print(\"> Login Sucessfully.\")\n",
    "\n",
    "    except Exception as e:\n",
    "        print(f\"> Login Failed: {e}\")"
   ]
  },
  {
   "cell_type": "markdown",
   "id": "5d52be5a",
   "metadata": {},
   "source": [
    "# 抓取看板內的文章"
   ]
  },
  {
   "cell_type": "code",
   "execution_count": 22,
   "id": "b2d87617",
   "metadata": {},
   "outputs": [],
   "source": [
    "def fetch_forumArticles(forumName, epoch=30):\n",
    "    ''' 爬取單一看板上，最新的文章，並以 epoch作為向下移動的次數 '''\n",
    "    # 1 前往目標頁面\n",
    "    firstPageUrl = f\"https://www.dcard.tw/f/{forumName}?latest=true\"\n",
    "    browser.get(firstPageUrl)\n",
    "\n",
    "    # 2 Scrape all\n",
    "    allDfList = []\n",
    "\n",
    "    for i in range(epoch):\n",
    "        if i % 10 == 0:\n",
    "            print(f\">> current: {i}/{epoch}\")\n",
    "\n",
    "        # 爬現在的文章\n",
    "        df = fetch_currentArticles(browser)\n",
    "        allDfList.append(df)\n",
    "\n",
    "        # 往下移動\n",
    "        ActionChains(browser).send_keys(Keys.END).perform()\n",
    "\n",
    "        time.sleep(0.3)\n",
    "\n",
    "    # 3 去重複\n",
    "    allDf_origin = pd.concat(allDfList)\n",
    "    allDf = allDf_origin.drop_duplicates(\"Link\")\n",
    "    allDf = allDf.dropna(subset=['Name']).reset_index(drop=True)\n",
    "\n",
    "    # 4 Set forum name\n",
    "    allDf[\"ForumName\"] = forumName\n",
    "    allDf.drop(columns=[\"Name\"], inplace=True)\n",
    "\n",
    "    return allDf\n",
    "\n",
    "def fetch_currentArticles(browser):\n",
    "    html = browser.page_source\n",
    "    soup = BeautifulSoup(html)\n",
    "    articles = soup.select(\"article.hDasRN \")\n",
    "\n",
    "    artList = []\n",
    "\n",
    "    for art in articles:\n",
    "        artTitle = art.find('a').text\n",
    "        artHref = art.find('a').get(\"href\")\n",
    "        artCollege = art.find('div', class_='pKOgj')\n",
    "        artName = art.find('span', class_='dURHrx')\n",
    "        artDict = {\"Title\": artTitle, \"Link\": artHref, \"Name\": artName}\n",
    "        artList.append(artDict)\n",
    "\n",
    "    df = pd.DataFrame(artList)\n",
    "\n",
    "    return df"
   ]
  },
  {
   "cell_type": "code",
   "execution_count": 23,
   "id": "2ffceb5a",
   "metadata": {},
   "outputs": [
    {
     "name": "stdout",
     "output_type": "stream",
     "text": [
      "===================\n",
      "> 開始抓取 meme\n",
      ">> current: 0/30\n",
      ">> current: 10/30\n",
      ">> current: 20/30\n",
      "> 出檔案 ./raw_data/2022-08-05_16-06_meme.csv\n",
      "> 結束抓取 meme\n",
      "===================\n",
      "CPU times: user 1.41 s, sys: 91.6 ms, total: 1.51 s\n",
      "Wall time: 19.3 s\n"
     ]
    }
   ],
   "source": [
    "%%time\n",
    "\n",
    "# 此次設定\n",
    "epoch = 30\n",
    "startTimeStr = pd.Timestamp.now().strftime(\"%Y-%m-%d_%H-%M\") # 此次執行開始時間\n",
    "\n",
    "# 開始爬取\n",
    "for forumName in ['meme']:\n",
    "    # 抓某個看板\n",
    "    print(\"===================\")\n",
    "    print(f\"> 開始抓取 {forumName}\")\n",
    "    articles_df = fetch_forumArticles(forumName, epoch)\n",
    "\n",
    "    fileName = f\"./raw_data/{startTimeStr}_{forumName}.csv\"    \n",
    "    print(f\"> 出檔案 {fileName}\")\n",
    "    articles_df.to_csv(fileName, index=False)\n",
    "\n",
    "    print(f\"> 結束抓取 {forumName}\")\n",
    "    print(\"===================\")"
   ]
  },
  {
   "cell_type": "markdown",
   "id": "18efa7bb",
   "metadata": {},
   "source": [
    "# 讀檔案"
   ]
  },
  {
   "cell_type": "code",
   "execution_count": 24,
   "id": "d7e60036",
   "metadata": {},
   "outputs": [],
   "source": [
    "import os\n",
    "import glob\n",
    "\n",
    "# 抓到所有csv檔案的名稱\n",
    "all_files = glob.glob('./raw_data/*.csv')\n",
    "\n",
    "# 讀取所有csv\n",
    "all_df = []\n",
    "\n",
    "for f in all_files:\n",
    "    _df = pd.read_csv(f)\n",
    "    all_df.append(_df)\n",
    "\n",
    "# 合併所有檔案\n",
    "df = pd.concat(all_df).reset_index(drop=True)"
   ]
  },
  {
   "cell_type": "markdown",
   "id": "2fb8c690",
   "metadata": {},
   "source": [
    "# 抓取文章中用戶ID"
   ]
  },
  {
   "cell_type": "code",
   "execution_count": null,
   "id": "c44903ce",
   "metadata": {},
   "outputs": [],
   "source": [
    "# Selenium模擬瀏覽器\n",
    "drivePath = './chromedriver'\n",
    "browser = webdriver.Chrome(drivePath)"
   ]
  },
  {
   "cell_type": "code",
   "execution_count": null,
   "id": "ae470ae4",
   "metadata": {},
   "outputs": [
    {
     "name": "stderr",
     "output_type": "stream",
     "text": [
      "  8%|██████████▊                                                                                                                      | 1/12 [00:04<00:54,  4.91s/it]"
     ]
    },
    {
     "name": "stdout",
     "output_type": "stream",
     "text": [
      "post:  /f/job/p/239620931\n",
      "artid:  /@m0966n\n"
     ]
    },
    {
     "name": "stderr",
     "output_type": "stream",
     "text": [
      "\r",
      " 17%|█████████████████████▌                                                                                                           | 2/12 [00:07<00:36,  3.68s/it]"
     ]
    },
    {
     "name": "stdout",
     "output_type": "stream",
     "text": [
      "post:  /f/meme/p/239623376\n",
      "artid:  /@bill1911888\n"
     ]
    },
    {
     "name": "stderr",
     "output_type": "stream",
     "text": [
      "\r",
      " 25%|████████████████████████████████▎                                                                                                | 3/12 [00:10<00:30,  3.41s/it]"
     ]
    },
    {
     "name": "stdout",
     "output_type": "stream",
     "text": [
      "post:  /f/meme/p/239623353\n",
      "artid:  /@godxi\n"
     ]
    },
    {
     "name": "stderr",
     "output_type": "stream",
     "text": [
      "\r",
      " 33%|███████████████████████████████████████████                                                                                      | 4/12 [00:17<00:37,  4.65s/it]"
     ]
    },
    {
     "name": "stdout",
     "output_type": "stream",
     "text": [
      "post:  /f/meme/p/239620432\n",
      "artid:  /@ryuiop\n"
     ]
    },
    {
     "name": "stderr",
     "output_type": "stream",
     "text": [
      "\r",
      " 42%|█████████████████████████████████████████████████████▊                                                                           | 5/12 [00:21<00:30,  4.30s/it]"
     ]
    },
    {
     "name": "stdout",
     "output_type": "stream",
     "text": [
      "post:  /f/meme/p/239620412\n",
      "artid:  /@ryuiop\n"
     ]
    },
    {
     "name": "stderr",
     "output_type": "stream",
     "text": [
      "\r",
      " 50%|████████████████████████████████████████████████████████████████▌                                                                | 6/12 [00:26<00:29,  4.84s/it]"
     ]
    },
    {
     "name": "stdout",
     "output_type": "stream",
     "text": [
      "post:  /f/meme/p/239620382\n",
      "artid:  /@ryuiop\n"
     ]
    },
    {
     "name": "stderr",
     "output_type": "stream",
     "text": [
      "\r",
      " 58%|███████████████████████████████████████████████████████████████████████████▎                                                     | 7/12 [00:30<00:21,  4.29s/it]"
     ]
    },
    {
     "name": "stdout",
     "output_type": "stream",
     "text": [
      "post:  /f/meme/p/239620352\n",
      "artid:  /@ryuiop\n"
     ]
    },
    {
     "name": "stderr",
     "output_type": "stream",
     "text": [
      "\r",
      " 67%|██████████████████████████████████████████████████████████████████████████████████████                                           | 8/12 [00:35<00:18,  4.68s/it]"
     ]
    },
    {
     "name": "stdout",
     "output_type": "stream",
     "text": [
      "post:  /f/meme/p/239620346\n",
      "artid:  /@ryuiop\n"
     ]
    },
    {
     "name": "stderr",
     "output_type": "stream",
     "text": [
      "\r",
      " 75%|████████████████████████████████████████████████████████████████████████████████████████████████▊                                | 9/12 [00:42<00:15,  5.22s/it]"
     ]
    },
    {
     "name": "stdout",
     "output_type": "stream",
     "text": [
      "post:  /f/meme/p/239620076\n",
      "artid:  /@db200070\n"
     ]
    },
    {
     "name": "stderr",
     "output_type": "stream",
     "text": [
      "\r",
      " 83%|██████████████████████████████████████████████████████████████████████████████████████████████████████████▋                     | 10/12 [00:50<00:12,  6.25s/it]"
     ]
    },
    {
     "name": "stdout",
     "output_type": "stream",
     "text": [
      "post:  /f/meme/p/239620070\n",
      "artid:  /@fishbone1011\n"
     ]
    },
    {
     "name": "stderr",
     "output_type": "stream",
     "text": [
      "\r",
      " 92%|█████████████████████████████████████████████████████████████████████████████████████████████████████████████████████▎          | 11/12 [00:53<00:05,  5.30s/it]"
     ]
    },
    {
     "name": "stdout",
     "output_type": "stream",
     "text": [
      "post:  /f/meme/p/239620042\n",
      "artid:  /@thomas1919\n"
     ]
    }
   ],
   "source": [
    "idlist = []\n",
    "error_id=[]\n",
    "# articles = allDf.Link.values.tolist()\n",
    "articles = df.Link\n",
    "\n",
    "for art in tqdm(articles):\n",
    "    try:\n",
    "        browser.get(f'https://www.dcard.tw{art}')\n",
    "        html = browser.page_source\n",
    "        soup = BeautifulSoup(html)\n",
    "        artid = soup.find('a', class_='cPeMKB').get('href')\n",
    "        print('post: ', art)\n",
    "        print('artid: ', artid)\n",
    "    #     artName = art.find('name', class_='elZJuv')\n",
    "        usersdict = {\"ID\": artid}\n",
    "        idlist.append(usersdict)\n",
    "    except:\n",
    "        print('>> Error Id: ', art)\n",
    "        error_id.append(art)\n",
    "        continue"
   ]
  },
  {
   "cell_type": "code",
   "execution_count": 12,
   "id": "bf78a2c6",
   "metadata": {},
   "outputs": [
    {
     "data": {
      "text/html": [
       "<div>\n",
       "<style scoped>\n",
       "    .dataframe tbody tr th:only-of-type {\n",
       "        vertical-align: middle;\n",
       "    }\n",
       "\n",
       "    .dataframe tbody tr th {\n",
       "        vertical-align: top;\n",
       "    }\n",
       "\n",
       "    .dataframe thead th {\n",
       "        text-align: right;\n",
       "    }\n",
       "</style>\n",
       "<table border=\"1\" class=\"dataframe\">\n",
       "  <thead>\n",
       "    <tr style=\"text-align: right;\">\n",
       "      <th></th>\n",
       "      <th>Title</th>\n",
       "      <th>Link</th>\n",
       "      <th>ForumName</th>\n",
       "      <th>ID</th>\n",
       "    </tr>\n",
       "  </thead>\n",
       "  <tbody>\n",
       "    <tr>\n",
       "      <th>0</th>\n",
       "      <td>想賺多一點錢應付生活費</td>\n",
       "      <td>/f/job/p/239620931</td>\n",
       "      <td>job</td>\n",
       "      <td>/@m0966n</td>\n",
       "    </tr>\n",
       "  </tbody>\n",
       "</table>\n",
       "</div>"
      ],
      "text/plain": [
       "         Title                Link ForumName        ID\n",
       "0  想賺多一點錢應付生活費  /f/job/p/239620931       job  /@m0966n"
      ]
     },
     "execution_count": 12,
     "metadata": {},
     "output_type": "execute_result"
    }
   ],
   "source": [
    "# 合併資料\n",
    "df1 = pd.DataFrame(idlist)\n",
    "allDf = pd.concat([df, df1], axis=1)\n",
    "allDf"
   ]
  },
  {
   "cell_type": "markdown",
   "id": "332f66ab",
   "metadata": {},
   "source": [
    "## 整理df"
   ]
  },
  {
   "cell_type": "code",
   "execution_count": 13,
   "id": "60195286",
   "metadata": {},
   "outputs": [
    {
     "data": {
      "text/html": [
       "<div>\n",
       "<style scoped>\n",
       "    .dataframe tbody tr th:only-of-type {\n",
       "        vertical-align: middle;\n",
       "    }\n",
       "\n",
       "    .dataframe tbody tr th {\n",
       "        vertical-align: top;\n",
       "    }\n",
       "\n",
       "    .dataframe thead th {\n",
       "        text-align: right;\n",
       "    }\n",
       "</style>\n",
       "<table border=\"1\" class=\"dataframe\">\n",
       "  <thead>\n",
       "    <tr style=\"text-align: right;\">\n",
       "      <th></th>\n",
       "      <th>Title</th>\n",
       "      <th>Link</th>\n",
       "      <th>ForumName</th>\n",
       "      <th>ID</th>\n",
       "      <th>NewURL</th>\n",
       "    </tr>\n",
       "  </thead>\n",
       "  <tbody>\n",
       "    <tr>\n",
       "      <th>0</th>\n",
       "      <td>想賺多一點錢應付生活費</td>\n",
       "      <td>/f/job/p/239620931</td>\n",
       "      <td>job</td>\n",
       "      <td>/@m0966n</td>\n",
       "      <td>https://www.dcard.tw/@m0966n</td>\n",
       "    </tr>\n",
       "  </tbody>\n",
       "</table>\n",
       "</div>"
      ],
      "text/plain": [
       "         Title                Link ForumName        ID  \\\n",
       "0  想賺多一點錢應付生活費  /f/job/p/239620931       job  /@m0966n   \n",
       "\n",
       "                         NewURL  \n",
       "0  https://www.dcard.tw/@m0966n  "
      ]
     },
     "execution_count": 13,
     "metadata": {},
     "output_type": "execute_result"
    }
   ],
   "source": [
    "allDf['IdList'] = idlist\n",
    "allDf['Id_new'] = allDf.IdList.apply(lambda x: x['ID'])\n",
    "allDf.drop(columns=['IdList'], inplace = True)\n",
    "allDf['NewURL'] =  \"https://www.dcard.tw\" + allDf.Id_new\n",
    "allDf.drop(columns=['Id_new'], inplace = True)\n",
    "allDf"
   ]
  },
  {
   "cell_type": "markdown",
   "id": "1cab3c82",
   "metadata": {},
   "source": [
    "# 抓取個人主頁貼文看版"
   ]
  },
  {
   "cell_type": "code",
   "execution_count": null,
   "id": "84a9a033",
   "metadata": {},
   "outputs": [],
   "source": [
    "# Selenium模擬瀏覽器\n",
    "drivePath = './chromedriver'\n",
    "browser = webdriver.Chrome(drivePath)"
   ]
  },
  {
   "cell_type": "code",
   "execution_count": 14,
   "id": "553b1ce3",
   "metadata": {},
   "outputs": [
    {
     "name": "stderr",
     "output_type": "stream",
     "text": [
      "100%|██████████████████████████████████████████████████████████████████████████████████████████████████████████████████████████████████| 1/1 [00:01<00:00,  1.87s/it]"
     ]
    },
    {
     "name": "stdout",
     "output_type": "stream",
     "text": [
      "['job', 'relationship']\n"
     ]
    },
    {
     "name": "stderr",
     "output_type": "stream",
     "text": [
      "\n"
     ]
    }
   ],
   "source": [
    "personal_page = allDf.NewURL\n",
    "board_dict = []\n",
    "\n",
    "for personal_board in tqdm(personal_page):\n",
    "    browser.get(personal_board)\n",
    "    html = browser.page_source\n",
    "    soup = BeautifulSoup(html)\n",
    "# 從網址選出看板\n",
    "    personal_posts = soup.select(\".kfHo\")\n",
    "    all_forums = [a['href'].split(\"/\")[2] for a in personal_posts]\n",
    "    forumsList = list(set(all_forums))\n",
    "    print(forumsList)\n",
    "# 共幾種看板/共發了計次\n",
    "    forumsCountDict = pd.DataFrame({\"Forum\": all_forums}).reset_index().groupby(\n",
    "        \"Forum\").agg({\"index\": \"count\"}).to_dict()['index']\n",
    "    userForumsDict = {\"ForumsList\": forumsList,\n",
    "                      \"ForumsCountDict\": forumsCountDict}\n",
    "    board_dict.append(userForumsDict)\n",
    "    \n",
    "userForumsDf = pd.DataFrame(board_dict)"
   ]
  },
  {
   "cell_type": "code",
   "execution_count": 15,
   "id": "68497817",
   "metadata": {},
   "outputs": [],
   "source": [
    "# 合併資料\n",
    "final_result = pd.concat([allDf, userForumsDf], axis=1, join='inner')"
   ]
  },
  {
   "cell_type": "code",
   "execution_count": 16,
   "id": "84829353",
   "metadata": {},
   "outputs": [
    {
     "data": {
      "text/html": [
       "<div>\n",
       "<style scoped>\n",
       "    .dataframe tbody tr th:only-of-type {\n",
       "        vertical-align: middle;\n",
       "    }\n",
       "\n",
       "    .dataframe tbody tr th {\n",
       "        vertical-align: top;\n",
       "    }\n",
       "\n",
       "    .dataframe thead th {\n",
       "        text-align: right;\n",
       "    }\n",
       "</style>\n",
       "<table border=\"1\" class=\"dataframe\">\n",
       "  <thead>\n",
       "    <tr style=\"text-align: right;\">\n",
       "      <th></th>\n",
       "      <th>Title</th>\n",
       "      <th>Link</th>\n",
       "      <th>ForumName</th>\n",
       "      <th>ID</th>\n",
       "      <th>NewURL</th>\n",
       "      <th>ForumsList</th>\n",
       "      <th>ForumsCountDict</th>\n",
       "    </tr>\n",
       "  </thead>\n",
       "  <tbody>\n",
       "    <tr>\n",
       "      <th>0</th>\n",
       "      <td>想賺多一點錢應付生活費</td>\n",
       "      <td>/f/job/p/239620931</td>\n",
       "      <td>job</td>\n",
       "      <td>/@m0966n</td>\n",
       "      <td>https://www.dcard.tw/@m0966n</td>\n",
       "      <td>[job, relationship]</td>\n",
       "      <td>{'job': 1, 'relationship': 1}</td>\n",
       "    </tr>\n",
       "  </tbody>\n",
       "</table>\n",
       "</div>"
      ],
      "text/plain": [
       "         Title                Link ForumName        ID  \\\n",
       "0  想賺多一點錢應付生活費  /f/job/p/239620931       job  /@m0966n   \n",
       "\n",
       "                         NewURL           ForumsList  \\\n",
       "0  https://www.dcard.tw/@m0966n  [job, relationship]   \n",
       "\n",
       "                 ForumsCountDict  \n",
       "0  {'job': 1, 'relationship': 1}  "
      ]
     },
     "execution_count": 16,
     "metadata": {},
     "output_type": "execute_result"
    }
   ],
   "source": [
    "final_result"
   ]
  },
  {
   "cell_type": "code",
   "execution_count": 17,
   "id": "ef4b770e",
   "metadata": {},
   "outputs": [
    {
     "data": {
      "text/plain": [
       "<bound method Series.keys of 0    {'job': 1, 'relationship': 1}\n",
       "Name: ForumsCountDict, dtype: object>"
      ]
     },
     "execution_count": 17,
     "metadata": {},
     "output_type": "execute_result"
    }
   ],
   "source": [
    "final_result.ForumsCountDict.keys"
   ]
  },
  {
   "cell_type": "code",
   "execution_count": 18,
   "id": "00afda6f",
   "metadata": {},
   "outputs": [
    {
     "data": {
      "text/plain": [
       "0    [job, relationship]\n",
       "Name: ForumsList, dtype: object"
      ]
     },
     "execution_count": 18,
     "metadata": {},
     "output_type": "execute_result"
    }
   ],
   "source": [
    "final_result.ForumsList"
   ]
  },
  {
   "cell_type": "code",
   "execution_count": null,
   "id": "628c1a2a",
   "metadata": {},
   "outputs": [],
   "source": []
  }
 ],
 "metadata": {
  "kernelspec": {
   "display_name": "Python 3 (ipykernel)",
   "language": "python",
   "name": "python3"
  },
  "language_info": {
   "codemirror_mode": {
    "name": "ipython",
    "version": 3
   },
   "file_extension": ".py",
   "mimetype": "text/x-python",
   "name": "python",
   "nbconvert_exporter": "python",
   "pygments_lexer": "ipython3",
   "version": "3.9.12"
  },
  "toc": {
   "base_numbering": 1,
   "nav_menu": {},
   "number_sections": true,
   "sideBar": true,
   "skip_h1_title": false,
   "title_cell": "Table of Contents",
   "title_sidebar": "Contents",
   "toc_cell": false,
   "toc_position": {},
   "toc_section_display": true,
   "toc_window_display": true
  }
 },
 "nbformat": 4,
 "nbformat_minor": 5
}
